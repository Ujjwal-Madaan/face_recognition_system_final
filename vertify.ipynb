{
 "cells": [
  {
   "cell_type": "code",
   "execution_count": 1,
   "id": "aeb62e98",
   "metadata": {},
   "outputs": [],
   "source": [
    "from time import strftime\n",
    "from datetime import datetime\n"
   ]
  },
  {
   "cell_type": "code",
   "execution_count": 9,
   "id": "cc88d874",
   "metadata": {},
   "outputs": [],
   "source": [
    "now = datetime.now()\n",
    "d1 = now.strftime(\"_%d_%m_%Y_%H_%M\")\n",
    "dtString = now.strftime(\"%H:%M:%S\")"
   ]
  },
  {
   "cell_type": "code",
   "execution_count": 10,
   "id": "834ea02a",
   "metadata": {},
   "outputs": [
    {
     "data": {
      "text/plain": [
       "'_15_05_2021_19_18'"
      ]
     },
     "execution_count": 10,
     "metadata": {},
     "output_type": "execute_result"
    }
   ],
   "source": [
    "d1"
   ]
  },
  {
   "cell_type": "code",
   "execution_count": 6,
   "id": "e34badb8",
   "metadata": {},
   "outputs": [
    {
     "data": {
      "text/plain": [
       "'19:14:10'"
      ]
     },
     "execution_count": 6,
     "metadata": {},
     "output_type": "execute_result"
    }
   ],
   "source": [
    "dtString"
   ]
  },
  {
   "cell_type": "code",
   "execution_count": null,
   "id": "44a47788",
   "metadata": {},
   "outputs": [],
   "source": []
  }
 ],
 "metadata": {
  "kernelspec": {
   "display_name": "Python 3",
   "language": "python",
   "name": "python3"
  },
  "language_info": {
   "codemirror_mode": {
    "name": "ipython",
    "version": 3
   },
   "file_extension": ".py",
   "mimetype": "text/x-python",
   "name": "python",
   "nbconvert_exporter": "python",
   "pygments_lexer": "ipython3",
   "version": "3.9.2"
  }
 },
 "nbformat": 4,
 "nbformat_minor": 5
}
